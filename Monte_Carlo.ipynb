{
 "cells": [
  {
   "cell_type": "code",
   "execution_count": 1,
   "metadata": {},
   "outputs": [],
   "source": [
    "import random"
   ]
  },
  {
   "cell_type": "code",
   "execution_count": 2,
   "metadata": {},
   "outputs": [],
   "source": [
    "def monty_hall(switcher):\n",
    "    \n",
    "    switch_win = 0\n",
    "    no_switch_win = 0\n",
    "    \n",
    "    for i in range(10000):\n",
    "        \n",
    "        doors = [1,2,3]   # doors of game\n",
    "        host_doors = [1,2,3]  # doors host will show\n",
    "\n",
    "        car_door = random.randint(1,3)  # set car behind random door\n",
    "        gamer_first_choice = random.randint(1,3)  # gamer choose random door     \n",
    "\n",
    "\n",
    "        host_doors.remove(gamer_first_choice)  # host doesn`t open door choosen by gamer\n",
    "\n",
    "        \n",
    "        while True:\n",
    "            if car_door in host_doors:\n",
    "                host_doors.remove(car_door)  # host doesn`t open door of car too\n",
    "            else:\n",
    "                host_doors.remove(host_doors[0])  # host show one of the doors which has goat behind that\n",
    "            break\n",
    "\n",
    "        if switcher == True:\n",
    "            # if gamer switch door then we should remove both first choice of him and shown door by host\n",
    "            \n",
    "            doors.remove(gamer_first_choice)\n",
    "            doors.remove(host_doors[0])\n",
    "            gamer_second_choice = doors[0]  # last door\n",
    "\n",
    "            if gamer_second_choice == car_door:  # if choice is equal to door of car then he win\n",
    "                switch_win += 1\n",
    "              \n",
    "\n",
    "        else:\n",
    "            # if gamer doesn`t switch door then we should remove just shown by host\n",
    "            doors.remove(host_doors[0])\n",
    "            gamer_second_choice = gamer_first_choice\n",
    "\n",
    "            if gamer_second_choice == car_door:  # if choice is equal to door of car then he win\n",
    "                no_switch_win += 1\n",
    "\n",
    "           \n",
    "      \n",
    "    return switch_win, no_switch_win"
   ]
  },
  {
   "cell_type": "code",
   "execution_count": 3,
   "metadata": {},
   "outputs": [
    {
     "name": "stdout",
     "output_type": "stream",
     "text": [
      "Probability of winning by switching:  66.45 %\n"
     ]
    }
   ],
   "source": [
    "result = []\n",
    "result.append(monty_hall(switcher=True))\n",
    "print(\"Probability of winning by switching: \", str(result[0][0] / 10000 * 100), \"%\")"
   ]
  },
  {
   "cell_type": "code",
   "execution_count": 4,
   "metadata": {},
   "outputs": [
    {
     "name": "stdout",
     "output_type": "stream",
     "text": [
      "Probability of winning by without switching:  33.17 %\n"
     ]
    }
   ],
   "source": [
    "result = []\n",
    "result.append(monty_hall(switcher=False))\n",
    "print(\"Probability of winning by without switching: \", str(result[0][1] / 10000 * 100), \"%\")"
   ]
  },
  {
   "cell_type": "code",
   "execution_count": null,
   "metadata": {},
   "outputs": [],
   "source": []
  },
  {
   "cell_type": "code",
   "execution_count": 5,
   "metadata": {},
   "outputs": [
    {
     "name": "stderr",
     "output_type": "stream",
     "text": [
      "[NbConvertApp] Converting notebook Monte_Carlo.ipynb to script\n",
      "[NbConvertApp] Writing 1979 bytes to Monte_Carlo.py\n"
     ]
    }
   ],
   "source": [
    "!jupyter nbconvert --to script Monte_Carlo.ipynb"
   ]
  },
  {
   "cell_type": "code",
   "execution_count": null,
   "metadata": {},
   "outputs": [],
   "source": []
  }
 ],
 "metadata": {
  "kernelspec": {
   "display_name": "Python 3",
   "language": "python",
   "name": "python3"
  },
  "language_info": {
   "codemirror_mode": {
    "name": "ipython",
    "version": 3
   },
   "file_extension": ".py",
   "mimetype": "text/x-python",
   "name": "python",
   "nbconvert_exporter": "python",
   "pygments_lexer": "ipython3",
   "version": "3.8.5"
  }
 },
 "nbformat": 4,
 "nbformat_minor": 4
}
